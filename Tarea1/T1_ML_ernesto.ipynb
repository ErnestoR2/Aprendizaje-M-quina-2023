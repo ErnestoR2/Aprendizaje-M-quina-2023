{
  "nbformat": 4,
  "nbformat_minor": 0,
  "metadata": {
    "colab": {
      "provenance": []
    },
    "kernelspec": {
      "name": "python3",
      "display_name": "Python 3"
    },
    "language_info": {
      "name": "python"
    }
  },
  "cells": [
    {
      "cell_type": "markdown",
      "source": [
        "#Tarea 1\n",
        "\n",
        "Ernesto Antonio Reyes Ramírez\n",
        "\n",
        "Maestría en Ciencias Computacionales \n",
        "\n",
        "Materia: Aprendizaje Automático "
      ],
      "metadata": {
        "id": "FNhdA0FDfdTr"
      }
    },
    {
      "cell_type": "markdown",
      "source": [
        "1. Leer los nombres de los archivos en un directorio y construir un\n",
        "Diccionario de Python de la forma {key : value} tal que la llave\n",
        "(key) sea un entero y el valor (value) el nombre del archivo (sin\n",
        "camino, path) incluyendo su extensión.\n",
        "\n",
        "Solución: Utilizaremos la librería os con su función listdir la cual nos regresa una lista con los nombres de los archivos dentro. Luego utilizamos Dictionary Comprehension para crear un diccionario donde la key es un entero (la longitud del nombre del archivo) y el valor el nombre. \n"
      ],
      "metadata": {
        "id": "YkwFGYlZgx0F"
      }
    },
    {
      "cell_type": "code",
      "source": [
        "import os\n",
        "\n",
        "def leer_directorio(path):\n",
        "  contenido = os.listdir(path)\n",
        "  dicc = {len(clave):clave for clave in contenido}\n",
        "  return dicc\n",
        "\n",
        "dicc = leer_directorio(\"Latex/\")\n",
        "dicc"
      ],
      "metadata": {
        "id": "ug193XkQgsFj",
        "colab": {
          "base_uri": "https://localhost:8080/"
        },
        "outputId": "06fe5f4b-376d-4893-bb8f-9dc260b603cf"
      },
      "execution_count": 2,
      "outputs": [
        {
          "output_type": "execute_result",
          "data": {
            "text/plain": [
              "{16: 'styleErnesto.sty', 15: 'referencias.bib'}"
            ]
          },
          "metadata": {},
          "execution_count": 2
        }
      ]
    },
    {
      "cell_type": "markdown",
      "source": [
        "2. Invierta un diccionario que originalmente tienen la forma {x : y}\n",
        "a {y : x}. Use “list comprehension” para generar el nuevo\n",
        "diccionario.\n",
        "\n",
        "Solución: Simplemente use la sintaxis de Dictionary Comprehension e invertí el valor y clave en cada paso. "
      ],
      "metadata": {
        "id": "6ofjqdGxoR8z"
      }
    },
    {
      "cell_type": "code",
      "source": [
        "dicc = {\"ernesto\":\"rojo\", \"daniel\":\"verde\", \"alexis\":\"rosa\"}\n",
        "\n",
        "new_dicc = {valor:clave for clave, valor in dicc.items()}\n",
        "\n",
        "new_dicc"
      ],
      "metadata": {
        "colab": {
          "base_uri": "https://localhost:8080/"
        },
        "id": "wjcAQp4ZoVB-",
        "outputId": "bc9e9a90-ba36-4907-9f99-7c1ed87b2308"
      },
      "execution_count": null,
      "outputs": [
        {
          "output_type": "execute_result",
          "data": {
            "text/plain": [
              "{'rojo': 'ernesto', 'verde': 'daniel', 'rosa': 'alexis'}"
            ]
          },
          "metadata": {},
          "execution_count": 7
        }
      ]
    },
    {
      "cell_type": "markdown",
      "source": [
        "3. Escribe una función que determine si una palabra es un palindromo\n",
        "o no. Considere que la primera letra puede estar en mayúscula o en\n",
        "minúscula. Es decir Ada es un palindromo\n",
        "\n",
        "\n",
        "Solución: Convertí el string a minusculas ya que como se menciona no debe haber distinción si es mayuscula o minuscula. Ahora recorro el string por el inicio y el final al mismo tiempo para ir comparando si son iguales.  "
      ],
      "metadata": {
        "id": "Sy9s0d-iiVFY"
      }
    },
    {
      "cell_type": "code",
      "source": [
        "def es_palindromo(palabra):\n",
        "  palabra_low = palabra.lower()\n",
        "  n = len(palabra_low)\n",
        "  sol = True\n",
        "  for i in range(n):\n",
        "    if palabra_low[i] != palabra_low[n-i-1]:\n",
        "      sol = False\n",
        "      break\n",
        "\n",
        "  return sol\n",
        "\n",
        "es_palindromo(\"Aba\")\n"
      ],
      "metadata": {
        "colab": {
          "base_uri": "https://localhost:8080/"
        },
        "id": "3W0hvFFsiW9j",
        "outputId": "3b8f0976-1b31-40e9-bcda-9463c6e9442d"
      },
      "execution_count": 3,
      "outputs": [
        {
          "output_type": "execute_result",
          "data": {
            "text/plain": [
              "True"
            ]
          },
          "metadata": {},
          "execution_count": 3
        }
      ]
    },
    {
      "cell_type": "markdown",
      "source": [
        "4. Escriba una función que calcule el número de días entre dos\n",
        "fechas escritas en una cadena (string) con el formato “dd/mm/aaaa”\n"
      ],
      "metadata": {
        "id": "1OM2ZuZhoW7d"
      }
    },
    {
      "cell_type": "markdown",
      "source": [
        "Solución: Utilizamos un array auxiliar para tomar en cuenta los días distintos que tiene cada mes. También utilizamos una función para tratar con los años bisiestos y contamos los días y los restamos. "
      ],
      "metadata": {
        "id": "rVSj5k3lehXA"
      }
    },
    {
      "cell_type": "code",
      "source": [
        "monthDays = [31, 28, 31, 30, 31, 30,\n",
        "             31, 31, 30, 31, 30, 31]\n",
        " \n",
        "def años_bisiestos(d,m,y):\n",
        "    if (m <= 2):\n",
        "        y -= 1\n",
        "    return int(y / 4) - int(y / 100) + int(y / 400)\n",
        " \n",
        " \n",
        "def diasHastaFecha(d1,m1,y1,d2,m2,y2):\n",
        "    n1 = y1 * 365 + d1\n",
        " \n",
        "    for i in range(0, m1 - 1):\n",
        "        n1 += monthDays[i]\n",
        " \n",
        "    n1 += años_bisiestos(d1,m1,y1)\n",
        " \n",
        "    n2 = y2 * 365 + d2\n",
        "    for i in range(0, m2 - 1):\n",
        "        n2 += monthDays[i]\n",
        "    n2 += años_bisiestos(d2,m2,y2)\n",
        "\n",
        "    return (n2 - n1)"
      ],
      "metadata": {
        "id": "_F0KHki1oaxN"
      },
      "execution_count": 23,
      "outputs": []
    },
    {
      "cell_type": "code",
      "source": [
        "total = diasHastaFecha(18,3,2022,5,2,2023)\n",
        "total"
      ],
      "metadata": {
        "colab": {
          "base_uri": "https://localhost:8080/"
        },
        "id": "lv0TdugmbgY6",
        "outputId": "a0203e16-8ef8-4b4d-db3a-b19da4f8f789"
      },
      "execution_count": 24,
      "outputs": [
        {
          "output_type": "execute_result",
          "data": {
            "text/plain": [
              "324"
            ]
          },
          "metadata": {},
          "execution_count": 24
        }
      ]
    },
    {
      "cell_type": "markdown",
      "source": [
        "5. Escriba una función que calcule la transpuesta de un arreglo\n",
        "bidimensional (MxN) de elementos que pueden ser números o cadenas.\n",
        "Haga las operaciones en el mismo arreglo, es decir no use un arreglo\n",
        "auxiliar.\n",
        "\n",
        "\n",
        "Solución: Para no utilizar un arreglo auxiliar utilizamos un objeto auxiliar para realizar el cambio entre dos casillas. "
      ],
      "metadata": {
        "id": "xuknaO8robLX"
      }
    },
    {
      "cell_type": "code",
      "source": [
        "def transpuesta(matrix):\n",
        "  for i in range(len(matrix)):\n",
        "    for j in range(0,i+1):\n",
        "      aux = matrix[i][j]\n",
        "      matrix[i][j] = matrix[j][i]\n",
        "      matrix[j][i] = aux\n",
        "\n",
        "\n",
        "\n",
        "a = [[1, 2, 4], [5, 6, 7], [7, 8, 9]]\n",
        "\n",
        "transpuesta(a)\n",
        "\n",
        "a"
      ],
      "metadata": {
        "colab": {
          "base_uri": "https://localhost:8080/"
        },
        "id": "mhLzNCY-pbsy",
        "outputId": "12b0620c-a544-4aac-bd92-21e582bde2b8"
      },
      "execution_count": null,
      "outputs": [
        {
          "output_type": "execute_result",
          "data": {
            "text/plain": [
              "[[1, 5, 7], [2, 6, 8], [4, 7, 9]]"
            ]
          },
          "metadata": {},
          "execution_count": 8
        }
      ]
    },
    {
      "cell_type": "markdown",
      "source": [
        "6. Escriba una función “calculaRaiz” que calcula una raiz real\n",
        "de una función f:R- >R usando el método de Newton-Raphson . La\n",
        "función calculaRaiz recibe como argumento la función f y un punto\n",
        "inicial. La función debe verificar que la secuencia de puntos\n",
        "generados tiene pendiente m con |m| < 1\n",
        "\n",
        "\n",
        "solución: simplemente generamos mediante un ciclo la suceción de puntos que converge a una raíz de la función f. Y lo regresamos cuando alcanza una cierta tolerancia. \n"
      ],
      "metadata": {
        "id": "dDPPhFRnpcR2"
      }
    },
    {
      "cell_type": "code",
      "source": [
        "def calculaRaiz(f, x0, epsilon=1e-5):\n",
        "    x = x0\n",
        "    while True:\n",
        "        x_new = x - f(x) / Df(x)\n",
        "        if abs(x - x_new) < epsilon:\n",
        "            return x_new\n",
        "        x = x_new\n",
        "\n",
        "def f(x):\n",
        "  return x-3\n",
        "\n",
        "def Df(x):\n",
        "  return 1\n",
        "\n",
        "root = calculaRaiz(f,1.5)\n",
        "root"
      ],
      "metadata": {
        "id": "TtjwLFuzpfKe",
        "colab": {
          "base_uri": "https://localhost:8080/"
        },
        "outputId": "48cbc365-229f-4682-f915-2d16029a800d"
      },
      "execution_count": null,
      "outputs": [
        {
          "output_type": "execute_result",
          "data": {
            "text/plain": [
              "3.0"
            ]
          },
          "metadata": {},
          "execution_count": 3
        }
      ]
    },
    {
      "cell_type": "markdown",
      "source": [
        "7. Escriba una función que convierta un número decimal en binario y\n",
        "otra que convierta un número binario en decimal"
      ],
      "metadata": {
        "id": "rUSONgukpfhl"
      }
    },
    {
      "cell_type": "markdown",
      "source": [
        "Solución: Simplemente para convertir de decimal a binario vamos diviendo por 2 y guardando los residuos.\n",
        "\n",
        "Para convertir de binario a decimal multiplicamos por su respectiva potencia de 2 cada uno de los dígitos del número en cuestión. "
      ],
      "metadata": {
        "id": "6tEaPp9phjWj"
      }
    },
    {
      "cell_type": "code",
      "source": [
        "def DecimalToBinary(num):    \n",
        "    if num >= 1:\n",
        "        DecimalToBinary(num // 2)\n",
        "    print(num % 2, end = '')\n",
        "\n",
        "\n",
        "def binaryToDecimal(binary):\n",
        " \n",
        "    decimal, i = 0, 0\n",
        "    while(binary != 0):\n",
        "        dec = binary % 10\n",
        "        decimal = decimal + dec * pow(2, i)\n",
        "        binary = binary//10\n",
        "        i += 1\n",
        "    print(decimal)\n",
        "\n",
        "\n",
        "print(\"Decimal a binario: 10 -> \")\n",
        "DecimalToBinary(10)\n",
        "\n",
        "print(\"\\n Binario a decimal: 1010 -> \")\n",
        "binaryToDecimal(1010)\n"
      ],
      "metadata": {
        "id": "3mpxFZh3pkXj",
        "colab": {
          "base_uri": "https://localhost:8080/"
        },
        "outputId": "74179c74-2561-4754-cd08-9f456520da0b"
      },
      "execution_count": 31,
      "outputs": [
        {
          "output_type": "stream",
          "name": "stdout",
          "text": [
            "Decimal a binario: 10 -> \n",
            "01010\n",
            " Binario a decimal: 1010 -> \n",
            "10\n"
          ]
        }
      ]
    },
    {
      "cell_type": "markdown",
      "source": [
        "8. Escribir una función que lea un archivo de texto (parámetro) y\n",
        "escriba un archivo en formato YAML con cada palabra o token\n",
        "(mayúsculas se cambian por minúsculas) que aparece en el documento\n",
        "y su frecuencia de aparición. Token es una palabra o símbolo (&,\n",
        "$, ¿, etc.). El archivo aparecen los tokens de mayor frecuenca a\n",
        "menor frecuencia ."
      ],
      "metadata": {
        "id": "dghroT7Npkwe"
      }
    },
    {
      "cell_type": "code",
      "source": [
        "import numpy as np\n",
        "\n",
        "def file_YAML(path):\n",
        "  f = open(path,\"r\")\n",
        "  file_new = f.read()\n",
        "  file_tk = file_new.split()\n",
        "  words = file_new.split()\n",
        "  counts = dict()\n",
        "  for word in words:\n",
        "      if word in counts:\n",
        "          counts[word] += 1\n",
        "      else:\n",
        "          counts[word] = 1\n",
        "  keys = list(counts.keys())\n",
        "  values = list(counts.values())\n",
        "  sorted_value_index = np.argsort(values)\n",
        "  sorted_dict = {keys[i]: values[i] for i in sorted_value_index}\n",
        "\n",
        "  with open('strings.txt', 'w') as f:\n",
        "    for clave, valor in sorted_dict.items():\n",
        "        f.write( clave + \" :\" + str(valor) + '\\n')\n",
        "\n",
        "file_YAML(\"Latex/ejemplo.txt\")"
      ],
      "metadata": {
        "id": "VRV5nM7-pmRq"
      },
      "execution_count": 63,
      "outputs": []
    },
    {
      "cell_type": "markdown",
      "source": [
        "9. Escriba una función que lee un archivo a partir de una dirección\n",
        "URL (por ejemplo\n",
        "https://www.researchgate.net/profile/Awni-Abu-Saman/publication/307138664/figure/fig1/AS:399976761970690@1472373299942/The-original-cameraman-image_Q640.jpg)\n",
        "\n",
        "Luego, despliege la imagen, calcule el histrograma de niveles de\n",
        "grises en n (parámetro) bins y la matriz de coocurencias de los n\n",
        "niveles de gris. Investigue lo qué es la matrix de coocurrencias."
      ],
      "metadata": {
        "id": "bq48Q03Tps_f"
      }
    },
    {
      "cell_type": "code",
      "source": [],
      "metadata": {
        "id": "r1qpbDdMpuL3"
      },
      "execution_count": null,
      "outputs": []
    }
  ]
}